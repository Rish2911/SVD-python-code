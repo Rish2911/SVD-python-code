{
  "cells": [
    {
      "cell_type": "markdown",
      "metadata": {
        "id": "Cy7P7PdsseDr"
      },
      "source": [
        "673 HW1 Q4"
      ]
    },
    {
      "cell_type": "code",
      "execution_count": 169,
      "metadata": {
        "id": "oS1LkIjwsb9K"
      },
      "outputs": [],
      "source": [
        "import sympy as sp\n",
        "import numpy as np\n",
        "import math as ma\n",
        "from numpy.linalg import eig"
      ]
    },
    {
      "cell_type": "markdown",
      "metadata": {
        "id": "rZ4pdLanso_-"
      },
      "source": [
        "storing the given data in matrix form"
      ]
    },
    {
      "cell_type": "code",
      "execution_count": 170,
      "metadata": {
        "id": "Xid11zIjsrKL"
      },
      "outputs": [],
      "source": [
        "val = sp.Matrix([[5, 5, 100, 100],[150, 5, 200, 80], [150 ,150 ,220, 80], [5, 150, 100, 200]])"
      ]
    },
    {
      "cell_type": "code",
      "execution_count": 171,
      "metadata": {
        "colab": {
          "base_uri": "https://localhost:8080/",
          "height": 98
        },
        "id": "5DrTM_YLtzLn",
        "outputId": "5a0efec0-be13-4738-b5e2-5a337d60f9e5"
      },
      "outputs": [
        {
          "data": {
            "text/latex": [
              "$\\displaystyle \\left[\\begin{matrix}5 & 5 & 100 & 100\\\\150 & 5 & 200 & 80\\\\150 & 150 & 220 & 80\\\\5 & 150 & 100 & 200\\end{matrix}\\right]$"
            ],
            "text/plain": [
              "Matrix([\n",
              "[  5,   5, 100, 100],\n",
              "[150,   5, 200,  80],\n",
              "[150, 150, 220,  80],\n",
              "[  5, 150, 100, 200]])"
            ]
          },
          "execution_count": 171,
          "metadata": {},
          "output_type": "execute_result"
        }
      ],
      "source": [
        "val"
      ]
    },
    {
      "cell_type": "markdown",
      "metadata": {},
      "source": [
        "Creating A matrix out of given data"
      ]
    },
    {
      "cell_type": "code",
      "execution_count": 172,
      "metadata": {
        "id": "EofgfP8at0D0"
      },
      "outputs": [],
      "source": [
        "A = np.matrix([[-val[0,0], -val[0,1], -1, 0, 0, 0, val[0,0]*val[0,2], val[0,1]*val[0,2], val[0,2]],\n",
        "               [0, 0, 0, -val[0,0], -val[0,1], -1, val[0,0]*val[0,3], val[0,1]*val[0,3], val[0,3]],\n",
        "               [-val[1,0], -val[1,1], -1, 0, 0, 0, val[1,0]*val[1,2], val[1,1]*val[1,2], val[1,2]],\n",
        "               [0, 0, 0, -val[1,0], -val[1,1], -1, val[1,0]*val[1,3], val[1,1]*val[1,3], val[1,3]],\n",
        "               [-val[2,0], -val[2,1], -1, 0, 0, 0, val[2,0]*val[2,2], val[2,1]*val[2,2], val[2,2]],\n",
        "               [0, 0, 0, -val[2,0], -val[2,1], -1, val[2,0]*val[2,3], val[2,1]*val[2,3], val[2,3]],\n",
        "               [-val[3,0], -val[3,1], -1, 0, 0, 0, val[3,0]*val[3,2], val[3,1]*val[3,2], val[3,2]],\n",
        "               [0, 0, 0, -val[3,0], -val[3,1], -1, val[3,0]*val[3,3], val[3,1]*val[3,3], val[3,3]],                         \n",
        "               ], dtype = 'float')"
      ]
    },
    {
      "cell_type": "markdown",
      "metadata": {
        "id": "gOTmQffUZH3E"
      },
      "source": [
        "Given matrix A (m = 8, n= 9)"
      ]
    },
    {
      "cell_type": "code",
      "execution_count": 173,
      "metadata": {
        "colab": {
          "base_uri": "https://localhost:8080/",
          "height": 180
        },
        "id": "TDFNUeqeyXNT",
        "outputId": "e34fe757-39f9-4e68-fcb1-ea192b9b4280"
      },
      "outputs": [
        {
          "data": {
            "text/plain": [
              "matrix([[-5.0e+00, -5.0e+00, -1.0e+00,  0.0e+00,  0.0e+00,  0.0e+00,\n",
              "          5.0e+02,  5.0e+02,  1.0e+02],\n",
              "        [ 0.0e+00,  0.0e+00,  0.0e+00, -5.0e+00, -5.0e+00, -1.0e+00,\n",
              "          5.0e+02,  5.0e+02,  1.0e+02],\n",
              "        [-1.5e+02, -5.0e+00, -1.0e+00,  0.0e+00,  0.0e+00,  0.0e+00,\n",
              "          3.0e+04,  1.0e+03,  2.0e+02],\n",
              "        [ 0.0e+00,  0.0e+00,  0.0e+00, -1.5e+02, -5.0e+00, -1.0e+00,\n",
              "          1.2e+04,  4.0e+02,  8.0e+01],\n",
              "        [-1.5e+02, -1.5e+02, -1.0e+00,  0.0e+00,  0.0e+00,  0.0e+00,\n",
              "          3.3e+04,  3.3e+04,  2.2e+02],\n",
              "        [ 0.0e+00,  0.0e+00,  0.0e+00, -1.5e+02, -1.5e+02, -1.0e+00,\n",
              "          1.2e+04,  1.2e+04,  8.0e+01],\n",
              "        [-5.0e+00, -1.5e+02, -1.0e+00,  0.0e+00,  0.0e+00,  0.0e+00,\n",
              "          5.0e+02,  1.5e+04,  1.0e+02],\n",
              "        [ 0.0e+00,  0.0e+00,  0.0e+00, -5.0e+00, -1.5e+02, -1.0e+00,\n",
              "          1.0e+03,  3.0e+04,  2.0e+02]])"
            ]
          },
          "execution_count": 173,
          "metadata": {},
          "output_type": "execute_result"
        }
      ],
      "source": [
        "A"
      ]
    },
    {
      "cell_type": "markdown",
      "metadata": {
        "id": "cPROsm3c0zYy"
      },
      "source": [
        "Creating an empty x matrix"
      ]
    },
    {
      "cell_type": "code",
      "execution_count": 174,
      "metadata": {
        "id": "VbmSdKluziqY"
      },
      "outputs": [],
      "source": [
        "x = np.empty((9, 1))"
      ]
    },
    {
      "cell_type": "markdown",
      "metadata": {
        "id": "RbUGx5DZSIow"
      },
      "source": [
        "Finding $A*A^T$ $(8*8)$ for U and $A^T*A$ $(9*9)$ for $V^T$"
      ]
    },
    {
      "cell_type": "code",
      "execution_count": 180,
      "metadata": {
        "id": "K-SmiNn-1eOb"
      },
      "outputs": [],
      "source": [
        "W_U = np.array((A*A.T), dtype = float)\n",
        "\n",
        "W_V = np.array((A.T*A), dtype = float)\n"
      ]
    },
    {
      "cell_type": "markdown",
      "metadata": {},
      "source": [
        "Finding U and V"
      ]
    },
    {
      "cell_type": "code",
      "execution_count": 274,
      "metadata": {
        "id": "xHz_k-REUJAd"
      },
      "outputs": [],
      "source": [
        "eig_U, U  = eig(W_U)\n",
        "eig_V, V = eig(W_V)"
      ]
    },
    {
      "cell_type": "code",
      "execution_count": 275,
      "metadata": {},
      "outputs": [
        {
          "data": {
            "text/plain": [
              "array([3.62583363e+09, 1.01280011e+09, 6.80651927e+04, 3.46776193e+04,\n",
              "       2.12012335e+04, 3.70648899e+03, 6.56490977e-01, 1.52001454e+01])"
            ]
          },
          "execution_count": 275,
          "metadata": {},
          "output_type": "execute_result"
        }
      ],
      "source": [
        "eig_U"
      ]
    },
    {
      "cell_type": "markdown",
      "metadata": {},
      "source": [
        "Sorting the eigen values and vector using sort and flip function"
      ]
    },
    {
      "cell_type": "code",
      "execution_count": 277,
      "metadata": {},
      "outputs": [],
      "source": [
        "# dict_U = {}\n",
        "# for i in range(len(eig_U)):\n",
        "#     dict_U[i] = {eig_U[i]:U[:,i]}\n",
        "indx = np.argsort(eig_U)\n",
        "indx = np.flip(indx)\n",
        "eig_U = eig_U[indx]\n",
        "U = U[:, indx]"
      ]
    },
    {
      "cell_type": "code",
      "execution_count": 278,
      "metadata": {},
      "outputs": [
        {
          "data": {
            "text/plain": [
              "array([3.62583363e+09, 1.01280011e+09, 6.80651927e+04, 3.46776193e+04,\n",
              "       2.12012335e+04, 3.70648899e+03, 1.52001454e+01, 6.56490977e-01])"
            ]
          },
          "execution_count": 278,
          "metadata": {},
          "output_type": "execute_result"
        }
      ],
      "source": [
        "eig_U"
      ]
    },
    {
      "cell_type": "markdown",
      "metadata": {
        "id": "dYsuDnayZNai"
      },
      "source": [
        "eigen values and vectors of $A*A^T$"
      ]
    },
    {
      "cell_type": "code",
      "execution_count": 280,
      "metadata": {
        "id": "BQvHy677X_PJ"
      },
      "outputs": [],
      "source": [
        "\n",
        "V_T = V.T\n"
      ]
    },
    {
      "cell_type": "markdown",
      "metadata": {},
      "source": [
        "Displaying U"
      ]
    },
    {
      "cell_type": "code",
      "execution_count": 281,
      "metadata": {},
      "outputs": [
        {
          "data": {
            "text/plain": [
              "array([[ 1.17519867e-02,  3.44207228e-04, -5.15532162e-02,\n",
              "        -4.66128587e-01, -2.60345896e-01, -6.78428560e-02,\n",
              "         1.08122912e-02, -8.41087769e-01],\n",
              "       [ 1.17517760e-02,  3.43641967e-04, -8.72103737e-02,\n",
              "        -4.59351955e-01, -2.49098952e-01, -8.85591890e-02,\n",
              "         7.65455994e-01,  3.54169473e-01],\n",
              "       [ 3.58735699e-01,  6.54942912e-01,  1.34538659e-02,\n",
              "        -4.65084492e-01,  1.70101644e-01,  2.93617516e-01,\n",
              "        -2.78385484e-01,  1.82289868e-01],\n",
              "       [ 1.43494223e-01,  2.61976394e-01, -4.45383120e-01,\n",
              "         1.36060221e-01, -5.00795526e-01, -5.87488150e-01,\n",
              "        -2.73099286e-01,  1.52897235e-01],\n",
              "       [ 7.74962678e-01,  2.27117371e-02,  4.08516159e-01,\n",
              "         2.84937362e-01,  3.19642679e-02, -2.35211438e-01,\n",
              "         2.62688692e-01, -1.59658350e-01],\n",
              "       [ 2.81806634e-01,  8.24745878e-03, -6.92167142e-01,\n",
              "         3.15915567e-01,  1.14149714e-02,  5.01908806e-01,\n",
              "         2.46628160e-01, -1.69560615e-01],\n",
              "       [ 1.84643411e-01, -3.16806256e-01,  2.48466337e-01,\n",
              "        -3.46544961e-02, -6.98268275e-01,  4.67261587e-01,\n",
              "        -2.52393736e-01,  1.81630339e-01],\n",
              "       [ 3.69278450e-01, -6.33614920e-01, -2.88917222e-01,\n",
              "        -3.93333286e-01,  3.18917542e-01, -1.75016528e-01,\n",
              "        -2.61429000e-01,  1.52633609e-01]])"
            ]
          },
          "execution_count": 281,
          "metadata": {},
          "output_type": "execute_result"
        }
      ],
      "source": [
        "U"
      ]
    },
    {
      "cell_type": "markdown",
      "metadata": {},
      "source": [
        "Displaying $V^T$"
      ]
    },
    {
      "cell_type": "code",
      "execution_count": 282,
      "metadata": {
        "colab": {
          "base_uri": "https://localhost:8080/",
          "height": 180
        },
        "id": "K3XUovE6YlWg",
        "outputId": "82ae1053-6cd6-431a-f2ca-ba8ccaef49a3"
      },
      "outputs": [
        {
          "data": {
            "text/plain": [
              "array([[ 2.84043894e-03,  2.42121739e-03,  2.20891154e-05,\n",
              "         1.09109680e-03,  1.63479471e-03,  1.33908907e-05,\n",
              "        -6.96053715e-01, -7.17950893e-01, -6.16016024e-03],\n",
              "       [ 3.14430147e-03, -1.28321626e-03,  1.13495064e-05,\n",
              "         1.17416448e-03, -2.90636016e-03, -1.14077892e-05,\n",
              "        -7.17961695e-01,  6.96067270e-01,  2.29933343e-05],\n",
              "       [-2.46384735e-01, -3.77000733e-01, -2.37217168e-03,\n",
              "         6.61240940e-01,  5.74279813e-01,  5.80190908e-03,\n",
              "        -7.57487349e-05,  1.62813209e-03, -1.73453679e-01],\n",
              "       [-1.58554932e-01,  1.76600215e-01, -3.65660431e-03,\n",
              "         3.41172744e-01, -7.10405325e-02, -2.15181510e-03,\n",
              "        -3.79564118e-03, -3.77529395e-03,  9.06741660e-01],\n",
              "       [-1.75245114e-01,  6.89508147e-01,  5.19584361e-03,\n",
              "         5.01749740e-01, -3.14549320e-01,  2.88147957e-03,\n",
              "         2.50334194e-03,  2.49754245e-03, -3.78319687e-01],\n",
              "       [ 1.76705635e-01,  5.90273326e-01,  7.52000216e-03,\n",
              "        -2.32499365e-01,  7.49883366e-01, -5.73504703e-03,\n",
              "        -1.50223526e-04,  3.65599795e-03,  6.21986452e-02],\n",
              "       [ 9.13738625e-01, -5.29344506e-02,  6.59901593e-02,\n",
              "         3.72052358e-01, -6.19835401e-02, -1.22489909e-01,\n",
              "         4.37766998e-03, -6.00114914e-04,  2.52338778e-02],\n",
              "       [-1.20261073e-01, -2.23230961e-03,  7.85970681e-01,\n",
              "        -4.25903576e-02,  4.58785877e-03, -6.04930528e-01,\n",
              "        -5.55196293e-04,  3.48250734e-05, -2.47794677e-03],\n",
              "       [ 5.31056349e-02, -4.91718842e-03,  6.14648552e-01,\n",
              "         1.77018783e-02, -3.93375074e-03,  7.86750146e-01,\n",
              "         2.36025044e-04, -4.91718842e-05,  7.62164204e-03]])"
            ]
          },
          "execution_count": 282,
          "metadata": {},
          "output_type": "execute_result"
        }
      ],
      "source": [
        "V_T"
      ]
    },
    {
      "cell_type": "markdown",
      "metadata": {},
      "source": [
        "Displaying singular values $\\sigma^2$ (already sorted)"
      ]
    },
    {
      "cell_type": "code",
      "execution_count": 283,
      "metadata": {
        "colab": {
          "base_uri": "https://localhost:8080/"
        },
        "id": "bxyCdcwWbCSc",
        "outputId": "48cec364-029f-4e7c-c3be-0f1f28473163"
      },
      "outputs": [
        {
          "data": {
            "text/plain": [
              "array([ 3.62583363e+09,  1.01280011e+09,  6.80651927e+04,  3.46776193e+04,\n",
              "        2.12012335e+04,  3.70648899e+03,  1.52001454e+01,  6.56490976e-01,\n",
              "       -1.47199605e-10])"
            ]
          },
          "execution_count": 283,
          "metadata": {},
          "output_type": "execute_result"
        }
      ],
      "source": [
        "eig_V"
      ]
    },
    {
      "cell_type": "markdown",
      "metadata": {},
      "source": [
        "Creating $\\Sigma$ Matrix\n",
        "\n",
        "singular values $σ_i$= $sqrt(Λ_i)$\n",
        "$Σ$ = diagonal(σ_i)"
      ]
    },
    {
      "cell_type": "code",
      "execution_count": 284,
      "metadata": {
        "id": "O4uoJao_ZsD0"
      },
      "outputs": [],
      "source": [
        "\n",
        "sigma = np.zeros((9,9))\n",
        "j = 0\n",
        "S = [] #to be used for storing sigma values\n",
        "for i in eig_V[0:8]:\n",
        "  S.append(ma.sqrt(i))\n",
        "  j = j+1\n",
        "S.append(0)"
      ]
    },
    {
      "cell_type": "code",
      "execution_count": 285,
      "metadata": {
        "id": "GvzJ1OS1JosZ"
      },
      "outputs": [],
      "source": [
        "sigma = np.diag((S))\n",
        "# sigma = sp.Matrix(sigma)\n",
        "sigma_mn = sigma[0:8,:]"
      ]
    },
    {
      "cell_type": "code",
      "execution_count": 286,
      "metadata": {
        "colab": {
          "base_uri": "https://localhost:8080/",
          "height": 180
        },
        "id": "AA55LCpnckpq",
        "outputId": "61ef762c-6469-4158-ef82-7d1954bfb895"
      },
      "outputs": [
        {
          "data": {
            "text/plain": [
              "array([[6.02148954e+04, 0.00000000e+00, 0.00000000e+00, 0.00000000e+00,\n",
              "        0.00000000e+00, 0.00000000e+00, 0.00000000e+00, 0.00000000e+00,\n",
              "        0.00000000e+00],\n",
              "       [0.00000000e+00, 3.18245207e+04, 0.00000000e+00, 0.00000000e+00,\n",
              "        0.00000000e+00, 0.00000000e+00, 0.00000000e+00, 0.00000000e+00,\n",
              "        0.00000000e+00],\n",
              "       [0.00000000e+00, 0.00000000e+00, 2.60893068e+02, 0.00000000e+00,\n",
              "        0.00000000e+00, 0.00000000e+00, 0.00000000e+00, 0.00000000e+00,\n",
              "        0.00000000e+00],\n",
              "       [0.00000000e+00, 0.00000000e+00, 0.00000000e+00, 1.86219278e+02,\n",
              "        0.00000000e+00, 0.00000000e+00, 0.00000000e+00, 0.00000000e+00,\n",
              "        0.00000000e+00],\n",
              "       [0.00000000e+00, 0.00000000e+00, 0.00000000e+00, 0.00000000e+00,\n",
              "        1.45606434e+02, 0.00000000e+00, 0.00000000e+00, 0.00000000e+00,\n",
              "        0.00000000e+00],\n",
              "       [0.00000000e+00, 0.00000000e+00, 0.00000000e+00, 0.00000000e+00,\n",
              "        0.00000000e+00, 6.08809411e+01, 0.00000000e+00, 0.00000000e+00,\n",
              "        0.00000000e+00],\n",
              "       [0.00000000e+00, 0.00000000e+00, 0.00000000e+00, 0.00000000e+00,\n",
              "        0.00000000e+00, 0.00000000e+00, 3.89873638e+00, 0.00000000e+00,\n",
              "        0.00000000e+00],\n",
              "       [0.00000000e+00, 0.00000000e+00, 0.00000000e+00, 0.00000000e+00,\n",
              "        0.00000000e+00, 0.00000000e+00, 0.00000000e+00, 8.10241307e-01,\n",
              "        0.00000000e+00]])"
            ]
          },
          "execution_count": 286,
          "metadata": {},
          "output_type": "execute_result"
        }
      ],
      "source": [
        "sigma_mn"
      ]
    },
    {
      "cell_type": "code",
      "execution_count": 287,
      "metadata": {
        "id": "Ni0DxJYaYx3J"
      },
      "outputs": [],
      "source": [
        "A = np.dot(U,np.dot(sigma_mn,V_T))"
      ]
    },
    {
      "cell_type": "markdown",
      "metadata": {
        "id": "HH3dF31ncrIp"
      },
      "source": [
        "Displaying SVD of A"
      ]
    },
    {
      "cell_type": "code",
      "execution_count": 288,
      "metadata": {
        "colab": {
          "base_uri": "https://localhost:8080/",
          "height": 180
        },
        "id": "ThpybZoacpVh",
        "outputId": "4cc765ad-f500-4e65-83de-084cdb21b7fc"
      },
      "outputs": [],
      "source": [
        "\n",
        "u,s,vh = np.linalg.svd(A, full_matrices=True)"
      ]
    },
    {
      "cell_type": "markdown",
      "metadata": {},
      "source": [
        "Printing the difference between singular values"
      ]
    },
    {
      "cell_type": "code",
      "execution_count": 290,
      "metadata": {},
      "outputs": [
        {
          "name": "stdout",
          "output_type": "stream",
          "text": [
            "sigma matrix difference between manual and inbuilt function \n",
            " [-0.  0.  0.  0. -0.  0. -0. -0.]\n"
          ]
        }
      ],
      "source": [
        "print('sigma matrix difference between manual and inbuilt function \\n', (np.sqrt(eig_V[:8]) - s).round(3))"
      ]
    },
    {
      "cell_type": "markdown",
      "metadata": {},
      "source": [
        "Printing the difference between U matrix"
      ]
    },
    {
      "cell_type": "code",
      "execution_count": 292,
      "metadata": {},
      "outputs": [
        {
          "name": "stdout",
          "output_type": "stream",
          "text": [
            "U matrix difference between manual and inbuilt function  \n",
            " [[ 0.0235  0.     -0.1031 -0.     -0.5207 -0.      0.     -1.6822]\n",
            " [ 0.0235 -0.     -0.1744 -0.     -0.4982  0.     -0.      0.7083]\n",
            " [ 0.7175 -0.      0.0269  0.      0.3402 -0.     -0.      0.3646]\n",
            " [ 0.287   0.     -0.8908  0.     -1.0016  0.     -0.      0.3058]\n",
            " [ 1.5499  0.      0.817  -0.      0.0639  0.      0.     -0.3193]\n",
            " [ 0.5636 -0.     -1.3843  0.      0.0228  0.      0.     -0.3391]\n",
            " [ 0.3693 -0.      0.4969 -0.     -1.3965  0.     -0.      0.3633]\n",
            " [ 0.7386 -0.     -0.5778  0.      0.6378 -0.     -0.      0.3053]]\n"
          ]
        }
      ],
      "source": [
        "print('U matrix difference between manual and inbuilt function  \\n', (U - u).round(4))\n",
        "# print('U matrix using inbuilt function', u.round(5))"
      ]
    },
    {
      "cell_type": "code",
      "execution_count": 293,
      "metadata": {},
      "outputs": [
        {
          "name": "stdout",
          "output_type": "stream",
          "text": [
            "V matrix difference between manual and inbuilt function  \n",
            " [[ 0.006  0.004  0.     0.002  0.004  0.    -1.392 -1.436 -0.012]\n",
            " [ 0.     0.     0.     0.     0.     0.     0.     0.     0.   ]\n",
            " [-0.492 -0.754 -0.004  1.322  1.148  0.012 -0.     0.004 -0.346]\n",
            " [ 0.     0.     0.     0.     0.     0.     0.     0.     0.   ]\n",
            " [-0.35   1.38   0.01   1.004 -0.63   0.006  0.006  0.004 -0.756]\n",
            " [ 0.     0.     0.     0.     0.     0.     0.     0.     0.   ]\n",
            " [ 0.     0.     0.     0.     0.     0.     0.     0.     0.   ]\n",
            " [-0.24  -0.004  1.572 -0.086  0.01  -1.21  -0.002  0.    -0.004]\n",
            " [ 0.     0.     0.     0.     0.     0.     0.     0.     0.   ]]\n"
          ]
        }
      ],
      "source": [
        "print('V matrix difference between manual and inbuilt function  \\n', V_T.round(3) - vh.round(3))"
      ]
    },
    {
      "cell_type": "markdown",
      "metadata": {},
      "source": [
        "Homogeniety matrix is given by the eigen vector of V corresponding to smallest eigen value. H is the last column of V?"
      ]
    },
    {
      "cell_type": "code",
      "execution_count": 195,
      "metadata": {},
      "outputs": [],
      "source": [
        "i = np.argmin(eig_V)"
      ]
    },
    {
      "cell_type": "code",
      "execution_count": 196,
      "metadata": {},
      "outputs": [],
      "source": [
        "H = V[:,i]"
      ]
    },
    {
      "cell_type": "code",
      "execution_count": 254,
      "metadata": {},
      "outputs": [],
      "source": [
        "H_1 = np.zeros((3,3))\n",
        "k = 0\n",
        "for i in range(3):\n",
        "    for j in range(3):\n",
        "        H_1[i,j] = H[k]\n",
        "        k  = k + 1"
      ]
    },
    {
      "cell_type": "code",
      "execution_count": 255,
      "metadata": {},
      "outputs": [
        {
          "data": {
            "text/plain": [
              "array([[ 5.31056349e-02, -4.91718842e-03,  6.14648552e-01],\n",
              "       [ 1.77018783e-02, -3.93375074e-03,  7.86750146e-01],\n",
              "       [ 2.36025044e-04, -4.91718842e-05,  7.62164204e-03]])"
            ]
          },
          "execution_count": 255,
          "metadata": {},
          "output_type": "execute_result"
        }
      ],
      "source": [
        "H_1"
      ]
    }
  ],
  "metadata": {
    "colab": {
      "collapsed_sections": [],
      "name": "HW1_673.ipynb",
      "provenance": []
    },
    "kernelspec": {
      "display_name": "Python 3",
      "name": "python3"
    },
    "language_info": {
      "codemirror_mode": {
        "name": "ipython",
        "version": 3
      },
      "file_extension": ".py",
      "mimetype": "text/x-python",
      "name": "python",
      "nbconvert_exporter": "python",
      "pygments_lexer": "ipython3",
      "version": "3.9.7"
    }
  },
  "nbformat": 4,
  "nbformat_minor": 0
}
